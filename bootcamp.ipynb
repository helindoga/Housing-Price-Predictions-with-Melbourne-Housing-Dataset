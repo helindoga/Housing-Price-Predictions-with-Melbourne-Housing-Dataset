{
  "nbformat": 4,
  "nbformat_minor": 0,
  "metadata": {
    "colab": {
      "provenance": []
    },
    "kernelspec": {
      "name": "python3",
      "display_name": "Python 3"
    },
    "language_info": {
      "name": "python"
    }
  },
  "cells": [
    {
      "cell_type": "code",
      "execution_count": 18,
      "metadata": {
        "id": "meBIYqUDEnYo"
      },
      "outputs": [],
      "source": [
        "import numpy as np\n",
        "import pandas as pd\n",
        "import seaborn as sns\n",
        "import matplotlib.pyplot as plt\n",
        "from sklearn import model_selection, metrics, ensemble, linear_model, tree, neighbors\n",
        "from sklearn.preprocessing import LabelEncoder\n"
      ]
    },
    {
      "cell_type": "code",
      "source": [
        "df=pd.read_csv(\"Melbourne_housing_FULL.csv\")\n",
        "dk=pd.read_csv(\"MELBOURNE_HOUSE_PRICES_LESS.csv\")"
      ],
      "metadata": {
        "id": "1y-EzYNLVcMn"
      },
      "execution_count": 4,
      "outputs": []
    },
    {
      "cell_type": "code",
      "source": [
        "ilkbes = df.head()\n",
        "ilkbes"
      ],
      "metadata": {
        "id": "Tex9jAGDmZCV"
      },
      "execution_count": null,
      "outputs": []
    },
    {
      "cell_type": "code",
      "source": [
        "#4.2\n",
        "#satir(line) sayisi, sutun(column) sayisi\n",
        "shape= df.shape\n",
        "#column (sutun sayisi)\n",
        "column_len=len(df.columns)\n",
        "#size (toplam veri elemani)\n",
        "size=df.size\n",
        "\n",
        "#4.3\n",
        "#veri seti bilgileri\n",
        "information=df.info\n",
        "#sutun isimleri\n",
        "column=df.columns\n",
        "#column data types\n",
        "column_dtypes=df.dtypes\n",
        "#hafiza kullanimi\n",
        "memory_usage=df.memory_usage(deep=True).sum()\n",
        "#range index\n",
        "range_index=df.index\n",
        "#bos olmayan hucre sayisi\n",
        "numberofcells=df.count()"
      ],
      "metadata": {
        "id": "hJSUZo3TnL96"
      },
      "execution_count": 6,
      "outputs": []
    },
    {
      "cell_type": "code",
      "source": [
        "shape"
      ],
      "metadata": {
        "id": "YYqwEllr7mo5"
      },
      "execution_count": null,
      "outputs": []
    },
    {
      "cell_type": "code",
      "source": [
        "#5.1\n",
        "describe=df.describe\n",
        "#5.2 object olanları categori yapmak\n",
        "object_columns = df.select_dtypes(include=['object']).columns\n",
        "for column in object_columns:\n",
        "  df[column] = df[column].astype('category')\n",
        "column_dtypes=df.dtypes\n",
        "#5.3 tekrarlanan verileri kaldirmak\n",
        "duplicates = df.duplicated()\n",
        "df_clean = df.drop_duplicates()\n",
        "df=df_clean\n",
        "#5.4 aykirilar\n",
        "# Aykırı değerleri belirlemek için bir Z-Puan eşik değeri belirleyin\n",
        "z_score_threshold = 3  # Genellikle kullanılan bir eşik değer\n",
        "# Kategorik sütunları geçici olarak kaldırın\n",
        "df_numeric = df.select_dtypes(include=[np.number])\n",
        "# Tüm sayısal sütunlardaki Z-Puanları hesaplayın\n",
        "z_puanlar = np.abs((df_numeric - df_numeric.mean()) / df_numeric.std())\n",
        "# Herhangi bir sütunda en az bir aykırı değer içeren satırları bulun\n",
        "aykırılar_satır = z_puanlar[z_puanlar > z_score_threshold].dropna(how='all')\n",
        "# Aykırı değerleri temizlemek\n",
        "df_temiz = df.drop(aykırılar_satır.index)\n",
        "# Sonuçları görüntüleyin\n",
        "print(\"Temizlenmiş Veri Seti:\")\n",
        "print(df_temiz)\n",
        "\n",
        "print(\"\\nAykırı Değerlerin Olduğu Satırlar:\")\n",
        "print(aykırılar_satır)\n",
        "# yeni verileri olusturma\n",
        "df=df_temiz\n",
        "\n",
        "#5.5\n",
        "categorical_columns = [\"Bathroom\", \"Car\"]  # Doldurmak istediğiniz sütunları buraya ekleyin\n",
        "for column in categorical_columns:\n",
        "    df[column] = df[column].fillna(df[column].mode().iloc[0])\n"
      ],
      "metadata": {
        "id": "T3MNpMenw_9z"
      },
      "execution_count": null,
      "outputs": []
    },
    {
      "cell_type": "code",
      "source": [
        "#Data Visualization\n",
        "#part1\n",
        "#Fiyat sütununun histogramını oluşturun\n",
        "plt.figure(figsize=(10, 6))  # Grafik boyutunu ayarlayabilirsiniz\n",
        "sns.histplot(df['Price'], kde=True)  # 'Price' sütununun histogramını ve yoğunluk tahminini çizin\n",
        "plt.title('Price Distribution')  # Grafik başlığı\n",
        "plt.xlabel('Price')  # X ekseninin etiketi\n",
        "plt.ylabel('Frequency')  # Y ekseninin etiketi\n",
        "plt.show()  # Grafiği görüntüle\n"
      ],
      "metadata": {
        "id": "InUDpypnCQo3"
      },
      "execution_count": null,
      "outputs": []
    },
    {
      "cell_type": "code",
      "source": [
        "#part2\n",
        "# Tüm sayısal değişkenlerin çift grafiklerini oluşturun\n",
        "sns.pairplot(df, x_vars=['Price'], y_vars=df.columns[:-1])\n",
        "plt.show()"
      ],
      "metadata": {
        "id": "v52WQVEQKNRf"
      },
      "execution_count": null,
      "outputs": []
    },
    {
      "cell_type": "code",
      "source": [
        "#part2(opsiyonel)\n",
        "g = sns.pairplot(df, x_vars=['Price'], y_vars=df.columns[:-1])\n",
        "g.set(yticklabels=[])\n",
        "plt.figure(figsize=(12, 12))\n",
        "plt.show()\n"
      ],
      "metadata": {
        "id": "hz1Y1sdfHuwv"
      },
      "execution_count": null,
      "outputs": []
    },
    {
      "cell_type": "code",
      "source": [
        "#part3\n",
        "# Calculate the correlation matrix\n",
        "correlation_matrix = df.corr()\n",
        "# Create a heatmap of the correlation matrix\n",
        "plt.figure(figsize=(10, 8))\n",
        "sns.heatmap(correlation_matrix, annot=True, cmap=\"coolwarm\", linewidths=.5)\n",
        "plt.title(\"Correlation Matrix Heatmap\")\n",
        "plt.show()"
      ],
      "metadata": {
        "id": "Ogn2QE4aOdNu"
      },
      "execution_count": null,
      "outputs": []
    },
    {
      "cell_type": "code",
      "source": [
        "#part4 / Label Encoder\n",
        "label_encoder = LabelEncoder()\n",
        "for column in categorical_columns:\n",
        "    df[column] = label_encoder.fit_transform(df[column])"
      ],
      "metadata": {
        "id": "mNynVjIkPMes"
      },
      "execution_count": 23,
      "outputs": []
    },
    {
      "cell_type": "code",
      "source": [
        "#part4 / One Hot Encoder\n",
        "df = pd.get_dummies(df, columns=categorical_columns, drop_first=True)\n"
      ],
      "metadata": {
        "id": "Y7bfIaENR_ea"
      },
      "execution_count": 24,
      "outputs": []
    }
  ]
}